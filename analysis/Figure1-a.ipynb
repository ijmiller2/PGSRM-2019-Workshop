{
 "cells": [
  {
   "cell_type": "markdown",
   "metadata": {},
   "source": [
    "# Introduction\n",
    "___\n",
    "\n",
    "## Notebook Outline\n",
    "    1. Updating Python dependencies\n",
    "    2. Loading our data from an Excel file\n",
    "    3. Creating the basic volcano plot with Bokeh and NumPy\n",
    "    4. Coloring our data points based on criteria\n",
    "    5. Adding our cutoff lines\n",
    "    6. Adding interactivity to our volcano plot\n",
    "    7. Multiple hypothesis correction\n",
    "    8. Cleaning up and saving the figure as an image file \n",
    "\n",
    "\n",
    "## Follow along\n",
    "\n",
    "You may follow along on your computer by cloning the [PGSRM-2019-Workshop repository](https://github.com/ijmiller2/PGSRM-2019-Workshop \"2019-PGSRM-workshop\") from GitHub and opening up the jupyter notebook page using [jupyter notebooks](https://jupyter.org/ \"Jupyter Notebooks Homepage\")\n",
    "\n",
    "```bash\n",
    "git clone https://github.com/ijmiller2/PGSRM-2019-Workshop.git\n",
    "jupyter notebook PGSRM-2019-Workshop\n",
    "```\n",
    "\n",
    "__or__\n",
    "\n",
    "by following this link: https://notebooks.azure.com/ijmiller2/projects/pgsrm-2019-workshop"
   ]
  },
  {
   "cell_type": "markdown",
   "metadata": {},
   "source": [
    "# Updating Python dependencies\n",
    "---\n",
    "\n",
    "If you have Anconda Python, you can update your Python Packages with `pip`. For this exercise, we'll need the latest version of [Bokeh](http://bokeh.pydata.org/en/latest/ \"Bokeh Docs Homepage\"), an interactive, web-based plotting library in Python. \n",
    "\n",
    "You can run Bash commands in Jupyter Notebooks using the exclamation point as an \"escape character.\""
   ]
  },
  {
   "cell_type": "code",
   "execution_count": null,
   "metadata": {},
   "outputs": [],
   "source": [
    "# upgrade bokeh with pip package manager\n",
    "!pip install --upgrade bokeh"
   ]
  },
  {
   "cell_type": "markdown",
   "metadata": {},
   "source": [
    "## Loading our data from an Excel file\n",
    "\n",
    "We will load our data with [pandas](https://pandas.pydata.org/ \"Pandas homepage\"). This is short for **pan**eled **da**taframe**s** and is quite useful for manipulating tabular files."
   ]
  },
  {
   "cell_type": "code",
   "execution_count": null,
   "metadata": {
    "collapsed": true
   },
   "outputs": [],
   "source": [
    "# load data with pandas\n",
    "import pandas as pd\n",
    "\n",
    "path_to_data = \"../data/elife-31098-supp1-v2.xls\"\n",
    "df = pd.read_excel(path_to_data)"
   ]
  },
  {
   "cell_type": "code",
   "execution_count": null,
   "metadata": {},
   "outputs": [],
   "source": [
    "# inspect data with head method\n",
    "df.head()"
   ]
  },
  {
   "cell_type": "markdown",
   "metadata": {},
   "source": [
    "# Creating the volcano plot\n",
    "___\n",
    "## Bokeh\n",
    "\n",
    "We will use [Bokeh](http://bokeh.pydata.org/en/latest/ \"Bokeh Docs Homepage\") to recreate our figure. This is a python library containing functions to construct interactive visualizations.\n",
    "\n",
    "The next cell will import all of the required functions to start constructing our figure."
   ]
  },
  {
   "cell_type": "code",
   "execution_count": null,
   "metadata": {},
   "outputs": [],
   "source": [
    "# load bokeh dependencies for the volcano plot \n",
    "from bokeh.plotting import figure\n",
    "from bokeh.io import show\n",
    "from bokeh.io import output_notebook\n",
    "# set up notebok environment to render bokeh plots inline\n",
    "output_notebook()"
   ]
  },
  {
   "cell_type": "markdown",
   "metadata": {},
   "source": [
    "## NumPy\n",
    "\n",
    "We can use other existing python tools to perform our calculations. In this case, we will use a function from the [NumPy](https://www.numpy.org/ \"Numpy homepage\") library to determine the log transform for each of our data points."
   ]
  },
  {
   "cell_type": "code",
   "execution_count": null,
   "metadata": {
    "collapsed": true
   },
   "outputs": [],
   "source": [
    "# we'll need numpy for the log transform\n",
    "import numpy as np"
   ]
  },
  {
   "cell_type": "markdown",
   "metadata": {},
   "source": [
    "## Adding data to a figure object"
   ]
  },
  {
   "cell_type": "code",
   "execution_count": null,
   "metadata": {},
   "outputs": [],
   "source": [
    "# initialize figure object, estimating dimensions and axis ranges\n",
    "plot = figure(plot_width=400, plot_height=500, \n",
    "              x_range=(-6,6), y_range=(0,16))\n",
    "\n",
    "# add the points as a circle glyph\n",
    "plot.circle(x=df['log2 Fold Change (H/L) (KRASG12V/Empty Vector)'],\n",
    "         y=-np.log10(df['p-value']))\n",
    "\n",
    "# format the axis labels\n",
    "plot.xaxis.axis_label = \"log2(H/L) (KRAS-G12V/EV)\" #TODO: Include conditions\n",
    "plot.yaxis.axis_label = \"-log10(p-value)\"\n",
    "\n",
    "# render the plot\n",
    "show(plot)"
   ]
  },
  {
   "cell_type": "markdown",
   "metadata": {},
   "source": [
    "## Coloring our data points based on criteria\n",
    "\n",
    "### Adding another column to our dataframe"
   ]
  },
  {
   "cell_type": "code",
   "execution_count": null,
   "metadata": {},
   "outputs": [],
   "source": [
    "# initialize an empty list to store the color information\n",
    "color_list = []\n",
    "\n",
    "# iterate through the pandas dataframe and assign a color based on the criteria\n",
    "for index, row in df.iterrows():\n",
    "    \n",
    "    FoldChange = row['log2 Fold Change (H/L) (KRASG12V/Empty Vector)']\n",
    "    p_val = row['p-value']\n",
    "    \n",
    "    # significantly upregulated proteins\n",
    "    if FoldChange >= 1 and p_val <= 0.01:\n",
    "        color_list.append(\"blue\")\n",
    "    \n",
    "    # significantly downregulated proteins\n",
    "    elif FoldChange <= -1 and p_val <= 0.01:\n",
    "        color_list.append(\"red\")\n",
    "        \n",
    "    # all other proteins \n",
    "    else:\n",
    "        color_list.append(\"black\")\n",
    "    \n",
    "# add this list to your dataframe and then inspect with head()\n",
    "df['color'] = color_list\n",
    "df.head(n=10)"
   ]
  },
  {
   "cell_type": "markdown",
   "metadata": {},
   "source": [
    "### Constructing a figure with colors based on the criteria"
   ]
  },
  {
   "cell_type": "code",
   "execution_count": null,
   "metadata": {},
   "outputs": [],
   "source": [
    "# initialize figure object, estimating dimensions and axis ranges\n",
    "plot = figure(plot_width=400, plot_height=500, \n",
    "              x_range=(-6,6), y_range=(0,16))\n",
    "\n",
    "# add the points as a circle glyph\n",
    "plot.circle(\n",
    "    x=df['log2 Fold Change (H/L) (KRASG12V/Empty Vector)'],\n",
    "    y=-np.log10(df['p-value']),\n",
    "    color=df['color'],\n",
    "    line_color='black',\n",
    ")\n",
    "\n",
    "# format the axis labels\n",
    "plot.xaxis.axis_label = \"log2(H/L) (KRAS-G12V/EV)\" #TODO: Include conditions\n",
    "plot.yaxis.axis_label = \"-log10(p-value)\"\n",
    "\n",
    "show(plot)"
   ]
  },
  {
   "cell_type": "markdown",
   "metadata": {},
   "source": [
    "## Adding our cutoff lines\n",
    "\n",
    "We will add horizontal and vertical cutoffs using [spans](http://bokeh.pydata.org/en/latest/docs/user_guide/annotations.html#spans \"Bokeh Spans Documentation\"). The Spans function will allow us to annotate our figure with a line of the specified dimensions."
   ]
  },
  {
   "cell_type": "code",
   "execution_count": null,
   "metadata": {},
   "outputs": [],
   "source": [
    "from bokeh.models import Span\n",
    "\n",
    "# p-value cutoff of 0.01 --> -log10(0.01) = 2\n",
    "hline = Span(\n",
    "    location=2,\n",
    "    dimension='width', \n",
    "    line_color='black', \n",
    "    line_width=1,\n",
    "    line_dash='dashed',\n",
    ")\n",
    "\n",
    "# cutoff for a negative 2-fold change\n",
    "vline_left = Span(\n",
    "    location=-1,\n",
    "    dimension='height', \n",
    "    line_color='black', \n",
    "    line_width=1,\n",
    "    line_dash='dashed',\n",
    ")\n",
    "\n",
    "# cutoff for a positive 2-fold change\n",
    "vline_right = Span(\n",
    "    location=1,\n",
    "    dimension='height', \n",
    "    line_color='black', \n",
    "    line_width=1,\n",
    "    line_dash='dashed',\n",
    ")\n",
    "\n",
    "# update the figure object's attributes\n",
    "plot.renderers.extend([hline, vline_left, vline_right])\n",
    "\n",
    "# show the updated image\n",
    "show(plot)"
   ]
  },
  {
   "cell_type": "markdown",
   "metadata": {},
   "source": [
    "# Adding interactivity to our volcano plot\n",
    "___\n",
    "\n",
    "Bokeh [tooltips](https://bokeh.pydata.org/en/latest/docs/user_guide/tools.html#basic-tooltips \"Bokeh Basic tooltips Documentation\") allow the user to interact with the generated figure. In our case, we will display the gene name associated with each point. \n",
    "\n",
    "This will also require a different method for passing in our data. This will be performed via the [ColumnDataSource](https://bokeh.pydata.org/en/latest/docs/reference/models/sources.html#bokeh.models.sources.ColumnDataSource \"Bokeh ColumnDataSource Documentation\") function."
   ]
  },
  {
   "cell_type": "code",
   "execution_count": null,
   "metadata": {},
   "outputs": [],
   "source": [
    "from bokeh.models import ColumnDataSource\n",
    "\n",
    "\n",
    "# prepare the source data object\n",
    "source = ColumnDataSource(\n",
    "    data=dict(\n",
    "        x=df['log2 Fold Change (H/L) (KRASG12V/Empty Vector)'],\n",
    "        y=-np.log10(df['p-value']),\n",
    "        Gene=df['Gene'],\n",
    "        color=df['color'],\n",
    "        p_vals=df['p-value']\n",
    "    )\n",
    ")\n",
    "\n",
    "\n",
    "# Define tooltips\n",
    "TOOLTIPS = [\n",
    "    (\"index\", \"$index\"),\n",
    "    (\"(x,y)\", \"($x, $y)\"),\n",
    "    (\"Gene\", \"@Gene\"),\n",
    "    (\"p-value\", \"@p_vals\")\n",
    "]\n",
    "\n",
    "# initialize figure object, estimating dimensions and axis ranges\n",
    "plot = figure(plot_width=400, plot_height=500, \n",
    "              x_range=(-6,6), y_range=(0,16),\n",
    "              tooltips=TOOLTIPS)\n",
    "\n",
    "\n",
    "# add the points as a circle glyph\n",
    "plot.circle(\n",
    "    x='x',\n",
    "    y='y',\n",
    "    color='color',\n",
    "    line_color='black',\n",
    "    source=source\n",
    ")\n",
    "\n",
    "# p-value cutoff of 0.01 --> -log10(0.01) = 2\n",
    "hline = Span(\n",
    "    location=2,\n",
    "    dimension='width', \n",
    "    line_color='black', \n",
    "    line_width=1,\n",
    "    line_dash='dashed',\n",
    ")\n",
    "\n",
    "# cutoff for a negative 2-fold change\n",
    "vline_left = Span(\n",
    "    location=-1,\n",
    "    dimension='height', \n",
    "    line_color='black', \n",
    "    line_width=1,\n",
    "    line_dash='dashed',\n",
    ")\n",
    "\n",
    "# cutoff for a positive 2-fold change\n",
    "vline_right = Span(\n",
    "    location=1,\n",
    "    dimension='height', \n",
    "    line_color='black', \n",
    "    line_width=1,\n",
    "    line_dash='dashed',\n",
    ")\n",
    "\n",
    "# update the figure object's attributes\n",
    "plot.renderers.extend([hline, vline_left, vline_right])\n",
    "        \n",
    "\n",
    "show(plot)"
   ]
  },
  {
   "cell_type": "markdown",
   "metadata": {},
   "source": [
    "# Multiple hypothesis correction\n",
    "\n",
    "Because each point on the plot represents the result of a statistical hypothesis test (in this case, the Student's t-test), we may want to adjust our *p*-values accordingly. For more details on this rationale, refer to [John McDonald's Biostats Handbook](http://www.biostathandbook.com/multiplecomparisons.html).\n",
    "\n",
    "In this case, we will adjust our using the Benjamini Hochberg procedure. This will require the python library, [statsmodels](https://www.statsmodels.org/stable/index.html \"Statsmodels Homepage\")"
   ]
  },
  {
   "cell_type": "code",
   "execution_count": null,
   "metadata": {},
   "outputs": [],
   "source": [
    "# multiple hypothesis correction\n",
    "from statsmodels.stats.multitest import multipletests\n",
    "\n",
    "passes_multiple_testing = multipletests(df['p-value'], alpha=0.01, method='fdr_bh')[0]\n",
    "corrected_p_vals = multipletests(df['p-value'], alpha=0.01, method='fdr_bh')[1]\n",
    "\n",
    "df['passes_multiple_testing'] = passes_multiple_testing\n",
    "df['adjusted_p-values'] = corrected_p_vals\n",
    "df.head()"
   ]
  },
  {
   "cell_type": "markdown",
   "metadata": {},
   "source": [
    "## Updating the tooltips with corrected *p*-values"
   ]
  },
  {
   "cell_type": "code",
   "execution_count": null,
   "metadata": {},
   "outputs": [],
   "source": [
    "# update tool tips \n",
    "# add tooltips\n",
    "\n",
    "from bokeh.models import ColumnDataSource\n",
    "\n",
    "# prepare the source data object\n",
    "source = ColumnDataSource(data=dict(\n",
    "\n",
    "    x=df['log2 Fold Change (H/L) (KRASG12V/Empty Vector)'],\n",
    "    y=-np.log10(df['p-value']),\n",
    "    Gene=df['Gene'] ,\n",
    "    color=df['color'],\n",
    "    p_vals=df['p-value'],\n",
    "    adjusted_p_vals=df['adjusted_p-values']\n",
    "\n",
    "))\n",
    "\n",
    "# Define tooltips\n",
    "TOOLTIPS = [\n",
    "    (\"index\", \"$index\"),\n",
    "    (\"(x,y)\", \"($x, $y)\"),\n",
    "    (\"Gene\", \"@Gene\"),\n",
    "    (\"p-value\", \"@p_vals\"),\n",
    "    (\"adjusted p-values\", \"@adjusted_p_vals\")\n",
    "\n",
    "]\n",
    "\n",
    "# initialize figure object, estimating dimensions and axis ranges\n",
    "plot = figure(plot_width=400, plot_height=500, \n",
    "              x_range=(-6,6), y_range=(0,16),\n",
    "              tooltips=TOOLTIPS)\n",
    "\n",
    "# add the points as a circle glyph\n",
    "plot.circle(x='x',\n",
    "         y='y',\n",
    "         color='color',\n",
    "         line_color='black',\n",
    "         source=source)\n",
    "\n",
    "# format the axis labels\n",
    "plot.xaxis.axis_label = \"log2(H/L) (KRAS-G12V/EV)\" #TODO: Include conditions\n",
    "plot.yaxis.axis_label = \"-log10(p-value)\"\n",
    "\n",
    "# update the figure object's attributes\n",
    "plot.renderers.extend([hline,vline_left,vline_right])\n",
    "        \n",
    "show(plot)"
   ]
  },
  {
   "cell_type": "markdown",
   "metadata": {},
   "source": [
    "## Cleaning up and saving the figure as an image file "
   ]
  },
  {
   "cell_type": "code",
   "execution_count": null,
   "metadata": {},
   "outputs": [],
   "source": [
    "# hide grid lines\n",
    "plot.xgrid.visible = False\n",
    "plot.ygrid.visible = False\n",
    "\n",
    "# remove minor ticks\n",
    "plot.xaxis.minor_tick_line_color = None\n",
    "plot.yaxis.minor_tick_line_color = None\n",
    "\n",
    "# remove border\n",
    "plot.outline_line_color = None\n",
    "\n",
    "# format and save plot as a vector graphic\n",
    "plot.output_backend = \"svg\"\n",
    "plot.toolbar.logo = None\n",
    "\n",
    "show(plot)"
   ]
  }
 ],
 "metadata": {
  "kernelspec": {
   "display_name": "Python 3",
   "language": "python",
   "name": "python3"
  },
  "language_info": {
   "codemirror_mode": {
    "name": "ipython",
    "version": 3
   },
   "file_extension": ".py",
   "mimetype": "text/x-python",
   "name": "python",
   "nbconvert_exporter": "python",
   "pygments_lexer": "ipython3",
   "version": "3.6.5"
  }
 },
 "nbformat": 4,
 "nbformat_minor": 2
}
